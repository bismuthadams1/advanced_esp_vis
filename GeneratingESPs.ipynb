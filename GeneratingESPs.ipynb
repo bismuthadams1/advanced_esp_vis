{
 "cells": [
  {
   "cell_type": "markdown",
   "metadata": {},
   "source": [
    "Grab info from /Users/localadmin/Documents/projects/QM_ESP_Psi4/examples/prop_test_2.db database\n",
    "\n"
   ]
  },
  {
   "cell_type": "code",
   "execution_count": 37,
   "metadata": {},
   "outputs": [],
   "source": [
    "import pickle\n",
    "import sys\n",
    "import os \n",
    "import numpy as np\n",
    "import asyncio\n",
    "\n",
    "\n",
    "sys.path.append('/Users/localadmin/Documents/projects/QM_ESP_Psi4')\n",
    "\n",
    "from source.storage.storage import MoleculePropRecord, MoleculePropStore\n",
    "\n",
    "from openff.recharge.esp import ESPSettings\n",
    "from openff.recharge.grids import MSKGridSettings\n",
    "from openff.recharge.esp.psi4 import Psi4ESPGenerator\n",
    "from openff.toolkit.topology import Molecule\n",
    "from openff.recharge.utilities.toolkits import VdWRadiiType, compute_vdw_radii\n",
    "from openff.units import unit\n",
    "from openff.utilities import temporary_cd\n",
    "\n",
    "from molesp.models import ESPMolecule, Surface\n",
    "from molesp.gui import launch\n",
    "from molesp.cli._cli import compute_surface\n"
   ]
  },
  {
   "cell_type": "code",
   "execution_count": 10,
   "metadata": {},
   "outputs": [],
   "source": [
    "prop_store = MoleculePropStore(\"/Users/localadmin/Documents/projects/QM_ESP_Psi4/examples/prop_test_2.db\")"
   ]
  },
  {
   "cell_type": "code",
   "execution_count": 11,
   "metadata": {},
   "outputs": [
    {
     "data": {
      "text/plain": [
       "['OCC(O)CO',\n",
       " 'C#CC',\n",
       " 'C1CN1',\n",
       " 'C1COC1',\n",
       " 'CC#N',\n",
       " 'CC(=O)[O-]',\n",
       " 'CC(C)=O',\n",
       " 'CCCC',\n",
       " 'CCNCC',\n",
       " 'CN(C)C',\n",
       " 'CN=[N+]=[N-]',\n",
       " 'CNC',\n",
       " 'COC',\n",
       " 'CSC',\n",
       " 'Fc1ccccc1',\n",
       " 'NCO',\n",
       " 'Nc1ccccc1',\n",
       " 'O=[NH+][O-]',\n",
       " 'Oc1ccccc1',\n",
       " 'CCl',\n",
       " 'CF',\n",
       " 'CO',\n",
       " 'CS',\n",
       " 'C1COCO1',\n",
       " 'c1ccccc1',\n",
       " 'c1ccncc1',\n",
       " 'c1ccsc1']"
      ]
     },
     "execution_count": 11,
     "metadata": {},
     "output_type": "execute_result"
    }
   ],
   "source": [
    "smiles_list = prop_store.list()\n",
    "smiles_list"
   ]
  },
  {
   "cell_type": "code",
   "execution_count": 12,
   "metadata": {},
   "outputs": [
    {
     "data": {
      "text/html": [
       "<table><tbody><tr><th>Magnitude</th><td style='text-align:left;'><pre>[[-1.7448371652633583 -1.1692305991533931 0.35291475127711647]<br> [-1.300437452867219 0.16068228144279137 0.3880603045529657]<br> [0.05525721478904798 0.3467314756964777 -0.29181887031399634]<br> [0.38554207385941075 1.7094352724281747 -0.32620771923321035]<br> [1.1616603978720228 -0.3800404430573445 0.4562040882231809]<br> [2.3738648179096633 -0.4039067229678673 -0.24407074021139039]<br> [-2.0399941537247335 -1.3860815110521711 -0.5202961821136074]<br> [-1.222584713967644 0.4377925591363111 1.431303663930806]<br> [-2.0286469236178277 0.8286420734799702 -0.06890978969169474]<br> [-0.0014278273316579873 -0.05678343089204132 -1.3059272421231995]<br> [-0.13019718433876246 2.1555339381577814 -0.9829449299349872]<br> [1.3530864329570143 0.14943412961138441 1.3802505096767455]<br> [0.8290122883627434 -1.3837833925477012 0.7011821925438567]<br> [2.309702195361457 -1.0084256302824248 -0.9697400365825318]]</pre></td></tr><tr><th>Units</th><td style='text-align:left;'>angstrom</td></tr></tbody></table>"
      ],
      "text/latex": [
       "$\\begin{pmatrix}-1.7448371652633583 & -1.1692305991533931 & 0.35291475127711647\\\\ \n",
       "-1.300437452867219 & 0.16068228144279137 & 0.3880603045529657\\\\ \n",
       "0.05525721478904798 & 0.3467314756964777 & -0.29181887031399634\\\\ \n",
       "0.38554207385941075 & 1.7094352724281747 & -0.32620771923321035\\\\ \n",
       "1.1616603978720228 & -0.3800404430573445 & 0.4562040882231809\\\\ \n",
       "2.3738648179096633 & -0.4039067229678673 & -0.24407074021139039\\\\ \n",
       "-2.0399941537247335 & -1.3860815110521711 & -0.5202961821136074\\\\ \n",
       "-1.222584713967644 & 0.4377925591363111 & 1.431303663930806\\\\ \n",
       "-2.0286469236178277 & 0.8286420734799702 & -0.06890978969169474\\\\ \n",
       "-0.0014278273316579873 & -0.05678343089204132 & -1.3059272421231995\\\\ \n",
       "-0.13019718433876246 & 2.1555339381577814 & -0.9829449299349872\\\\ \n",
       "1.3530864329570143 & 0.14943412961138441 & 1.3802505096767455\\\\ \n",
       "0.8290122883627434 & -1.3837833925477012 & 0.7011821925438567\\\\ \n",
       "2.309702195361457 & -1.0084256302824248 & -0.9697400365825318\\end{pmatrix}\\ \\mathrm{angstrom}$"
      ],
      "text/plain": [
       "array([[-1.74483717e+00, -1.16923060e+00,  3.52914751e-01],\n",
       "       [-1.30043745e+00,  1.60682281e-01,  3.88060305e-01],\n",
       "       [ 5.52572148e-02,  3.46731476e-01, -2.91818870e-01],\n",
       "       [ 3.85542074e-01,  1.70943527e+00, -3.26207719e-01],\n",
       "       [ 1.16166040e+00, -3.80040443e-01,  4.56204088e-01],\n",
       "       [ 2.37386482e+00, -4.03906723e-01, -2.44070740e-01],\n",
       "       [-2.03999415e+00, -1.38608151e+00, -5.20296182e-01],\n",
       "       [-1.22258471e+00,  4.37792559e-01,  1.43130366e+00],\n",
       "       [-2.02864692e+00,  8.28642073e-01, -6.89097897e-02],\n",
       "       [-1.42782733e-03, -5.67834309e-02, -1.30592724e+00],\n",
       "       [-1.30197184e-01,  2.15553394e+00, -9.82944930e-01],\n",
       "       [ 1.35308643e+00,  1.49434130e-01,  1.38025051e+00],\n",
       "       [ 8.29012288e-01, -1.38378339e+00,  7.01182193e-01],\n",
       "       [ 2.30970220e+00, -1.00842563e+00, -9.69740037e-01]]) <Unit('angstrom')>"
      ]
     },
     "execution_count": 12,
     "metadata": {},
     "output_type": "execute_result"
    }
   ],
   "source": [
    "test_mol = prop_store.retrieve(smiles_list[0])[0]\n",
    "tagged_smiles = test_mol.tagged_smiles\n",
    "openff_molecule = Molecule.from_mapped_smiles(tagged_smiles)\n",
    "test_mol.conformer_quantity"
   ]
  },
  {
   "cell_type": "code",
   "execution_count": 13,
   "metadata": {},
   "outputs": [],
   "source": [
    "vdw_radii = compute_vdw_radii(openff_molecule, radii_type=VdWRadiiType.Bondi)\n",
    "\n",
    "radii = (\n",
    "            np.array([[radii] for radii in vdw_radii.m_as(unit.angstrom)])\n",
    "            * unit.angstrom\n",
    "        )"
   ]
  },
  {
   "cell_type": "code",
   "execution_count": 17,
   "metadata": {},
   "outputs": [],
   "source": [
    "vertices, indices = compute_surface(molecule = openff_molecule,\n",
    "                                    conformer = test_mol.conformer_quantity, \n",
    "                                    radii = radii,\n",
    "                                    radii_scale = 1.4,\n",
    "                                    spacing = 0.2 * unit.angstrom )"
   ]
  },
  {
   "cell_type": "code",
   "execution_count": 41,
   "metadata": {},
   "outputs": [],
   "source": [
    "esp_settings = ESPSettings(\n",
    "            basis=\"6-31G*\", method=\"hf\", grid_settings=MSKGridSettings()\n",
    "        )\n",
    "\n",
    "with temporary_cd():\n",
    "\n",
    "    _, esp, _ = Psi4ESPGenerator._generate(\n",
    "        openff_molecule,\n",
    "        test_mol.conformer_quantity,\n",
    "        vertices * unit.angstrom,\n",
    "        esp_settings,\n",
    "        \"\",\n",
    "        minimize=False,\n",
    "        compute_esp=True,\n",
    "        compute_field=False,\n",
    "    )\n"
   ]
  },
  {
   "cell_type": "code",
   "execution_count": 31,
   "metadata": {},
   "outputs": [],
   "source": [
    "esp_molecule =  ESPMolecule(\n",
    "    atomic_numbers = [atom.atomic_number for atom in openff_molecule.atoms],\n",
    "    conformer = test_mol.conformer.flatten().tolist(),\n",
    "    surface = Surface(\n",
    "            vertices=vertices.flatten().tolist(), indices=indices.flatten().tolist()\n",
    "        ),\n",
    "        esp={\"QC ESP\": esp.m_as(unit.hartree / unit.e).flatten().tolist()},\n",
    "    )"
   ]
  },
  {
   "cell_type": "code",
   "execution_count": 40,
   "metadata": {},
   "outputs": [
    {
     "name": "stderr",
     "output_type": "stream",
     "text": [
      "/Users/localadmin/mambaforge/envs/molesp/lib/python3.10/ast.py:50: RuntimeWarning: coroutine 'Server.serve' was never awaited\n",
      "  return compile(source, filename, mode, flags,\n",
      "RuntimeWarning: Enable tracemalloc to get the object allocation traceback\n"
     ]
    },
    {
     "ename": "RuntimeError",
     "evalue": "This event loop is already running",
     "output_type": "error",
     "traceback": [
      "\u001b[0;31m---------------------------------------------------------------------------\u001b[0m",
      "\u001b[0;31mRuntimeError\u001b[0m                              Traceback (most recent call last)",
      "\u001b[1;32m/Users/localadmin/Documents/molesp_test/GeneratingESPs.ipynb Cell 10\u001b[0m line \u001b[0;36m5\n\u001b[1;32m      <a href='vscode-notebook-cell:/Users/localadmin/Documents/molesp_test/GeneratingESPs.ipynb#X13sZmlsZQ%3D%3D?line=1'>2</a>\u001b[0m     launch(esp_molecule, port\u001b[39m=\u001b[39mport)\n\u001b[1;32m      <a href='vscode-notebook-cell:/Users/localadmin/Documents/molesp_test/GeneratingESPs.ipynb#X13sZmlsZQ%3D%3D?line=3'>4</a>\u001b[0m loop \u001b[39m=\u001b[39m asyncio\u001b[39m.\u001b[39mget_event_loop()\n\u001b[0;32m----> <a href='vscode-notebook-cell:/Users/localadmin/Documents/molesp_test/GeneratingESPs.ipynb#X13sZmlsZQ%3D%3D?line=4'>5</a>\u001b[0m loop\u001b[39m.\u001b[39;49mrun_until_complete(your_coroutine())\n",
      "File \u001b[0;32m~/mambaforge/envs/molesp/lib/python3.10/asyncio/base_events.py:625\u001b[0m, in \u001b[0;36mBaseEventLoop.run_until_complete\u001b[0;34m(self, future)\u001b[0m\n\u001b[1;32m    614\u001b[0m \u001b[39m\u001b[39m\u001b[39m\"\"\"Run until the Future is done.\u001b[39;00m\n\u001b[1;32m    615\u001b[0m \n\u001b[1;32m    616\u001b[0m \u001b[39mIf the argument is a coroutine, it is wrapped in a Task.\u001b[39;00m\n\u001b[0;32m   (...)\u001b[0m\n\u001b[1;32m    622\u001b[0m \u001b[39mReturn the Future's result, or raise its exception.\u001b[39;00m\n\u001b[1;32m    623\u001b[0m \u001b[39m\"\"\"\u001b[39;00m\n\u001b[1;32m    624\u001b[0m \u001b[39mself\u001b[39m\u001b[39m.\u001b[39m_check_closed()\n\u001b[0;32m--> 625\u001b[0m \u001b[39mself\u001b[39;49m\u001b[39m.\u001b[39;49m_check_running()\n\u001b[1;32m    627\u001b[0m new_task \u001b[39m=\u001b[39m \u001b[39mnot\u001b[39;00m futures\u001b[39m.\u001b[39misfuture(future)\n\u001b[1;32m    628\u001b[0m future \u001b[39m=\u001b[39m tasks\u001b[39m.\u001b[39mensure_future(future, loop\u001b[39m=\u001b[39m\u001b[39mself\u001b[39m)\n",
      "File \u001b[0;32m~/mambaforge/envs/molesp/lib/python3.10/asyncio/base_events.py:584\u001b[0m, in \u001b[0;36mBaseEventLoop._check_running\u001b[0;34m(self)\u001b[0m\n\u001b[1;32m    582\u001b[0m \u001b[39mdef\u001b[39;00m \u001b[39m_check_running\u001b[39m(\u001b[39mself\u001b[39m):\n\u001b[1;32m    583\u001b[0m     \u001b[39mif\u001b[39;00m \u001b[39mself\u001b[39m\u001b[39m.\u001b[39mis_running():\n\u001b[0;32m--> 584\u001b[0m         \u001b[39mraise\u001b[39;00m \u001b[39mRuntimeError\u001b[39;00m(\u001b[39m'\u001b[39m\u001b[39mThis event loop is already running\u001b[39m\u001b[39m'\u001b[39m)\n\u001b[1;32m    585\u001b[0m     \u001b[39mif\u001b[39;00m events\u001b[39m.\u001b[39m_get_running_loop() \u001b[39mis\u001b[39;00m \u001b[39mnot\u001b[39;00m \u001b[39mNone\u001b[39;00m:\n\u001b[1;32m    586\u001b[0m         \u001b[39mraise\u001b[39;00m \u001b[39mRuntimeError\u001b[39;00m(\n\u001b[1;32m    587\u001b[0m             \u001b[39m'\u001b[39m\u001b[39mCannot run the event loop while another loop is running\u001b[39m\u001b[39m'\u001b[39m)\n",
      "\u001b[0;31mRuntimeError\u001b[0m: This event loop is already running"
     ]
    }
   ],
   "source": [
    "async def your_coroutine():\n",
    "    launch(esp_molecule, port=port)\n",
    "\n",
    "loop = asyncio.get_event_loop()\n",
    "loop.run_until_complete(your_coroutine())"
   ]
  },
  {
   "cell_type": "code",
   "execution_count": 42,
   "metadata": {},
   "outputs": [
    {
     "data": {
      "text/html": [
       "<pre style=\"white-space:pre;overflow-x:auto;line-height:normal;font-family:Menlo,'DejaVu Sans Mono',consolas,'Courier New',monospace\">The GUI will be available at <span style=\"color: #000080; text-decoration-color: #000080; text-decoration: underline\">http://localhost:8000</span> after a few seconds.\n",
       "</pre>\n"
      ],
      "text/plain": [
       "The GUI will be available at \u001b[4;34mhttp://localhost:8000\u001b[0m after a few seconds.\n"
      ]
     },
     "metadata": {},
     "output_type": "display_data"
    },
    {
     "ename": "RuntimeError",
     "evalue": "asyncio.run() cannot be called from a running event loop",
     "output_type": "error",
     "traceback": [
      "\u001b[0;31m---------------------------------------------------------------------------\u001b[0m",
      "\u001b[0;31mRuntimeError\u001b[0m                              Traceback (most recent call last)",
      "\u001b[1;32m/Users/localadmin/Documents/molesp_test/GeneratingESPs.ipynb Cell 11\u001b[0m line \u001b[0;36m1\n\u001b[0;32m----> <a href='vscode-notebook-cell:/Users/localadmin/Documents/molesp_test/GeneratingESPs.ipynb#X14sZmlsZQ%3D%3D?line=0'>1</a>\u001b[0m \u001b[39mfrom\u001b[39;00m \u001b[39mesp_from_conformer\u001b[39;00m \u001b[39mimport\u001b[39;00m MyESPProcessor\n",
      "File \u001b[0;32m~/Documents/molesp_test/esp_from_conformer.py:76\u001b[0m\n\u001b[1;32m     55\u001b[0m     _, esp, _ \u001b[39m=\u001b[39m Psi4ESPGenerator\u001b[39m.\u001b[39m_generate(\n\u001b[1;32m     56\u001b[0m         openff_molecule,\n\u001b[1;32m     57\u001b[0m         test_mol\u001b[39m.\u001b[39mconformer_quantity,\n\u001b[0;32m   (...)\u001b[0m\n\u001b[1;32m     63\u001b[0m         compute_field\u001b[39m=\u001b[39m\u001b[39mFalse\u001b[39;00m,\n\u001b[1;32m     64\u001b[0m     )\n\u001b[1;32m     66\u001b[0m esp_molecule \u001b[39m=\u001b[39m  ESPMolecule(\n\u001b[1;32m     67\u001b[0m     atomic_numbers \u001b[39m=\u001b[39m [atom\u001b[39m.\u001b[39matomic_number \u001b[39mfor\u001b[39;00m atom \u001b[39min\u001b[39;00m openff_molecule\u001b[39m.\u001b[39matoms],\n\u001b[1;32m     68\u001b[0m     conformer \u001b[39m=\u001b[39m test_mol\u001b[39m.\u001b[39mconformer\u001b[39m.\u001b[39mflatten()\u001b[39m.\u001b[39mtolist(),\n\u001b[0;32m   (...)\u001b[0m\n\u001b[1;32m     72\u001b[0m         esp\u001b[39m=\u001b[39m{\u001b[39m\"\u001b[39m\u001b[39mQC ESP\u001b[39m\u001b[39m\"\u001b[39m: esp\u001b[39m.\u001b[39mm_as(unit\u001b[39m.\u001b[39mhartree \u001b[39m/\u001b[39m unit\u001b[39m.\u001b[39me)\u001b[39m.\u001b[39mflatten()\u001b[39m.\u001b[39mtolist()},\n\u001b[1;32m     73\u001b[0m     )\n\u001b[0;32m---> 76\u001b[0m launch(esp_molecule, port\u001b[39m=\u001b[39;49mPORT)\n",
      "File \u001b[0;32m~/mambaforge/envs/molesp/lib/python3.10/site-packages/molesp-0.0.1-py3.10-macosx-10.9-x86_64.egg/molesp/gui/_launch.py:26\u001b[0m, in \u001b[0;36mlaunch\u001b[0;34m(molecule, port)\u001b[0m\n\u001b[1;32m     18\u001b[0m \u001b[39mwith\u001b[39;00m set_env(MOLESP_API_PORT\u001b[39m=\u001b[39m\u001b[39mf\u001b[39m\u001b[39m\"\u001b[39m\u001b[39m{\u001b[39;00mport\u001b[39m}\u001b[39;00m\u001b[39m\"\u001b[39m, MOLESP_DATA_PATH\u001b[39m=\u001b[39m\u001b[39m\"\u001b[39m\u001b[39mesp-molecule.pkl\u001b[39m\u001b[39m\"\u001b[39m):\n\u001b[1;32m     20\u001b[0m     rich\u001b[39m.\u001b[39mprint(\n\u001b[1;32m     21\u001b[0m         \u001b[39mf\u001b[39m\u001b[39m\"\u001b[39m\u001b[39mThe GUI will be available at \u001b[39m\u001b[39m\"\u001b[39m\n\u001b[1;32m     22\u001b[0m         \u001b[39mf\u001b[39m\u001b[39m\"\u001b[39m\u001b[39m[markdown.link_url]http://localhost:\u001b[39m\u001b[39m{\u001b[39;00mport\u001b[39m}\u001b[39;00m\u001b[39m[/markdown.link_url] \u001b[39m\u001b[39m\"\u001b[39m\n\u001b[1;32m     23\u001b[0m         \u001b[39mf\u001b[39m\u001b[39m\"\u001b[39m\u001b[39mafter a few seconds.\u001b[39m\u001b[39m\"\u001b[39m\n\u001b[1;32m     24\u001b[0m     )\n\u001b[0;32m---> 26\u001b[0m     uvicorn\u001b[39m.\u001b[39;49mrun(\n\u001b[1;32m     27\u001b[0m         \u001b[39m\"\u001b[39;49m\u001b[39mmolesp.gui._app:app\u001b[39;49m\u001b[39m\"\u001b[39;49m,\n\u001b[1;32m     28\u001b[0m         host\u001b[39m=\u001b[39;49m\u001b[39m\"\u001b[39;49m\u001b[39m0.0.0.0\u001b[39;49m\u001b[39m\"\u001b[39;49m,\n\u001b[1;32m     29\u001b[0m         port\u001b[39m=\u001b[39;49mport,\n\u001b[1;32m     30\u001b[0m         log_level\u001b[39m=\u001b[39;49m\u001b[39m\"\u001b[39;49m\u001b[39merror\u001b[39;49m\u001b[39m\"\u001b[39;49m,\n\u001b[1;32m     31\u001b[0m     )\n",
      "File \u001b[0;32m~/mambaforge/envs/molesp/lib/python3.10/site-packages/uvicorn/main.py:587\u001b[0m, in \u001b[0;36mrun\u001b[0;34m(app, host, port, uds, fd, loop, http, ws, ws_max_size, ws_max_queue, ws_ping_interval, ws_ping_timeout, ws_per_message_deflate, lifespan, interface, reload, reload_dirs, reload_includes, reload_excludes, reload_delay, workers, env_file, log_config, log_level, access_log, proxy_headers, server_header, date_header, forwarded_allow_ips, root_path, limit_concurrency, backlog, limit_max_requests, timeout_keep_alive, timeout_graceful_shutdown, ssl_keyfile, ssl_certfile, ssl_keyfile_password, ssl_version, ssl_cert_reqs, ssl_ca_certs, ssl_ciphers, headers, use_colors, app_dir, factory, h11_max_incomplete_event_size)\u001b[0m\n\u001b[1;32m    585\u001b[0m     Multiprocess(config, target\u001b[39m=\u001b[39mserver\u001b[39m.\u001b[39mrun, sockets\u001b[39m=\u001b[39m[sock])\u001b[39m.\u001b[39mrun()\n\u001b[1;32m    586\u001b[0m \u001b[39melse\u001b[39;00m:\n\u001b[0;32m--> 587\u001b[0m     server\u001b[39m.\u001b[39;49mrun()\n\u001b[1;32m    588\u001b[0m \u001b[39mif\u001b[39;00m config\u001b[39m.\u001b[39muds \u001b[39mand\u001b[39;00m os\u001b[39m.\u001b[39mpath\u001b[39m.\u001b[39mexists(config\u001b[39m.\u001b[39muds):\n\u001b[1;32m    589\u001b[0m     os\u001b[39m.\u001b[39mremove(config\u001b[39m.\u001b[39muds)  \u001b[39m# pragma: py-win32\u001b[39;00m\n",
      "File \u001b[0;32m~/mambaforge/envs/molesp/lib/python3.10/site-packages/uvicorn/server.py:61\u001b[0m, in \u001b[0;36mServer.run\u001b[0;34m(self, sockets)\u001b[0m\n\u001b[1;32m     59\u001b[0m \u001b[39mdef\u001b[39;00m \u001b[39mrun\u001b[39m(\u001b[39mself\u001b[39m, sockets: Optional[List[socket\u001b[39m.\u001b[39msocket]] \u001b[39m=\u001b[39m \u001b[39mNone\u001b[39;00m) \u001b[39m-\u001b[39m\u001b[39m>\u001b[39m \u001b[39mNone\u001b[39;00m:\n\u001b[1;32m     60\u001b[0m     \u001b[39mself\u001b[39m\u001b[39m.\u001b[39mconfig\u001b[39m.\u001b[39msetup_event_loop()\n\u001b[0;32m---> 61\u001b[0m     \u001b[39mreturn\u001b[39;00m asyncio\u001b[39m.\u001b[39;49mrun(\u001b[39mself\u001b[39;49m\u001b[39m.\u001b[39;49mserve(sockets\u001b[39m=\u001b[39;49msockets))\n",
      "File \u001b[0;32m~/mambaforge/envs/molesp/lib/python3.10/asyncio/runners.py:33\u001b[0m, in \u001b[0;36mrun\u001b[0;34m(main, debug)\u001b[0m\n\u001b[1;32m      9\u001b[0m \u001b[39m\u001b[39m\u001b[39m\"\"\"Execute the coroutine and return the result.\u001b[39;00m\n\u001b[1;32m     10\u001b[0m \n\u001b[1;32m     11\u001b[0m \u001b[39mThis function runs the passed coroutine, taking care of\u001b[39;00m\n\u001b[0;32m   (...)\u001b[0m\n\u001b[1;32m     30\u001b[0m \u001b[39m    asyncio.run(main())\u001b[39;00m\n\u001b[1;32m     31\u001b[0m \u001b[39m\"\"\"\u001b[39;00m\n\u001b[1;32m     32\u001b[0m \u001b[39mif\u001b[39;00m events\u001b[39m.\u001b[39m_get_running_loop() \u001b[39mis\u001b[39;00m \u001b[39mnot\u001b[39;00m \u001b[39mNone\u001b[39;00m:\n\u001b[0;32m---> 33\u001b[0m     \u001b[39mraise\u001b[39;00m \u001b[39mRuntimeError\u001b[39;00m(\n\u001b[1;32m     34\u001b[0m         \u001b[39m\"\u001b[39m\u001b[39masyncio.run() cannot be called from a running event loop\u001b[39m\u001b[39m\"\u001b[39m)\n\u001b[1;32m     36\u001b[0m \u001b[39mif\u001b[39;00m \u001b[39mnot\u001b[39;00m coroutines\u001b[39m.\u001b[39miscoroutine(main):\n\u001b[1;32m     37\u001b[0m     \u001b[39mraise\u001b[39;00m \u001b[39mValueError\u001b[39;00m(\u001b[39m\"\u001b[39m\u001b[39ma coroutine was expected, got \u001b[39m\u001b[39m{!r}\u001b[39;00m\u001b[39m\"\u001b[39m\u001b[39m.\u001b[39mformat(main))\n",
      "\u001b[0;31mRuntimeError\u001b[0m: asyncio.run() cannot be called from a running event loop"
     ]
    }
   ],
   "source": [
    "from esp_from_conformer import MyESPProcessor"
   ]
  },
  {
   "cell_type": "code",
   "execution_count": null,
   "metadata": {},
   "outputs": [],
   "source": [
    "MyESP"
   ]
  }
 ],
 "metadata": {
  "kernelspec": {
   "display_name": "molesp",
   "language": "python",
   "name": "python3"
  },
  "language_info": {
   "codemirror_mode": {
    "name": "ipython",
    "version": 3
   },
   "file_extension": ".py",
   "mimetype": "text/x-python",
   "name": "python",
   "nbconvert_exporter": "python",
   "pygments_lexer": "ipython3",
   "version": "3.10.12"
  }
 },
 "nbformat": 4,
 "nbformat_minor": 2
}
